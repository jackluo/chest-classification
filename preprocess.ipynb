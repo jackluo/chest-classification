{
 "cells": [
  {
   "cell_type": "markdown",
   "metadata": {},
   "source": [
    "### Import required libraries"
   ]
  },
  {
   "cell_type": "code",
   "execution_count": 6,
   "metadata": {},
   "outputs": [],
   "source": [
    "import os\n",
    "\n",
    "from glob import glob\n",
    "from itertools import chain\n",
    "\n",
    "import numpy as np\n",
    "import scipy as sp\n",
    "import pandas as pd\n",
    "\n",
    "import matplotlib.pyplot as plt\n",
    "import matplotlib.image as mpimg"
   ]
  },
  {
   "cell_type": "code",
   "execution_count": 7,
   "metadata": {},
   "outputs": [],
   "source": [
    "% matplotlib inline"
   ]
  },
  {
   "cell_type": "code",
   "execution_count": 8,
   "metadata": {},
   "outputs": [],
   "source": [
    "FILTER_PA = False"
   ]
  },
  {
   "cell_type": "markdown",
   "metadata": {},
   "source": [
    "### Load data"
   ]
  },
  {
   "cell_type": "code",
   "execution_count": 9,
   "metadata": {},
   "outputs": [
    {
     "name": "stdout",
     "output_type": "stream",
     "text": [
      "Labels found: 112120\n",
      "Scans found: 112120\n"
     ]
    }
   ],
   "source": [
    "data_dir = 'data'\n",
    "_dir = data_dir + '/' + 'Data_Entry_2017.csv'\n",
    "\n",
    "all_df = pd.read_csv(_dir)\n",
    "\n",
    "all_paths = {os.path.basename(x): x for x in \n",
    "             glob(os.path.join(data_dir, 'images', '*.png'))}\n",
    "             # glob(os.path.join(data_dir, 'images*', '*', '*.png'))}\n",
    "    \n",
    "print('Labels found:', all_df.shape[0])\n",
    "print('Scans found:', len(all_paths))"
   ]
  },
  {
   "cell_type": "code",
   "execution_count": 10,
   "metadata": {},
   "outputs": [],
   "source": [
    "# Filter by PA view only\n",
    "\n",
    "if FILTER_PA:\n",
    "    all_df['View Position'].value_counts()\n",
    "    all_df = all_df[all_df['View Position'] == 'PA']"
   ]
  },
  {
   "cell_type": "code",
   "execution_count": 11,
   "metadata": {
    "scrolled": true
   },
   "outputs": [
    {
     "data": {
      "text/plain": [
       "<bound method NDFrame.sample of              Image Index                                Finding Labels  \\\n",
       "0       00000001_000.png                                  Cardiomegaly   \n",
       "1       00000001_001.png                        Cardiomegaly|Emphysema   \n",
       "2       00000001_002.png                         Cardiomegaly|Effusion   \n",
       "3       00000002_000.png                                    No Finding   \n",
       "4       00000003_000.png                                        Hernia   \n",
       "5       00000003_001.png                                        Hernia   \n",
       "6       00000003_002.png                                        Hernia   \n",
       "7       00000003_003.png                           Hernia|Infiltration   \n",
       "8       00000003_004.png                                        Hernia   \n",
       "9       00000003_005.png                                        Hernia   \n",
       "10      00000003_006.png                                        Hernia   \n",
       "11      00000003_007.png                                        Hernia   \n",
       "12      00000004_000.png                                   Mass|Nodule   \n",
       "13      00000005_000.png                                    No Finding   \n",
       "14      00000005_001.png                                    No Finding   \n",
       "15      00000005_002.png                                    No Finding   \n",
       "16      00000005_003.png                                    No Finding   \n",
       "17      00000005_004.png                                    No Finding   \n",
       "18      00000005_005.png                                    No Finding   \n",
       "19      00000005_006.png                                  Infiltration   \n",
       "20      00000005_007.png                         Effusion|Infiltration   \n",
       "21      00000006_000.png                                    No Finding   \n",
       "22      00000007_000.png                                    No Finding   \n",
       "23      00000008_000.png                                  Cardiomegaly   \n",
       "24      00000008_001.png                                    No Finding   \n",
       "25      00000008_002.png                                        Nodule   \n",
       "26      00000009_000.png                                     Emphysema   \n",
       "27      00000010_000.png                                  Infiltration   \n",
       "28      00000011_000.png                                      Effusion   \n",
       "29      00000011_001.png                                    No Finding   \n",
       "...                  ...                                           ...   \n",
       "112090  00030786_000.png                                      Effusion   \n",
       "112091  00030786_001.png               Effusion|Emphysema|Pneumothorax   \n",
       "112092  00030786_002.png  Cardiomegaly|Effusion|Emphysema|Pneumothorax   \n",
       "112093  00030786_003.png  Cardiomegaly|Effusion|Emphysema|Pneumothorax   \n",
       "112094  00030786_004.png  Cardiomegaly|Effusion|Emphysema|Pneumothorax   \n",
       "112095  00030786_005.png               Cardiomegaly|Effusion|Emphysema   \n",
       "112096  00030786_006.png                                 Consolidation   \n",
       "112097  00030786_007.png              Consolidation|Pleural_Thickening   \n",
       "112098  00030787_000.png                                    No Finding   \n",
       "112099  00030788_000.png                                    No Finding   \n",
       "112100  00030789_000.png                                  Infiltration   \n",
       "112101  00030790_000.png                                    No Finding   \n",
       "112102  00030791_000.png                                    No Finding   \n",
       "112103  00030791_001.png                                    No Finding   \n",
       "112104  00030792_000.png                                    No Finding   \n",
       "112105  00030792_001.png                                    No Finding   \n",
       "112106  00030793_000.png                                   Mass|Nodule   \n",
       "112107  00030794_000.png                                    No Finding   \n",
       "112108  00030795_000.png                            Pleural_Thickening   \n",
       "112109  00030796_000.png                                    No Finding   \n",
       "112110  00030797_000.png                                    No Finding   \n",
       "112111  00030798_000.png                                    No Finding   \n",
       "112112  00030799_000.png                                    No Finding   \n",
       "112113  00030800_000.png                                    No Finding   \n",
       "112114  00030801_000.png                                    No Finding   \n",
       "112115  00030801_001.png                                Mass|Pneumonia   \n",
       "112116  00030802_000.png                                    No Finding   \n",
       "112117  00030803_000.png                                    No Finding   \n",
       "112118  00030804_000.png                                    No Finding   \n",
       "112119  00030805_000.png                                    No Finding   \n",
       "\n",
       "        Follow-up #  Patient ID  Patient Age Patient Gender View Position  \\\n",
       "0                 0           1           58              M            PA   \n",
       "1                 1           1           58              M            PA   \n",
       "2                 2           1           58              M            PA   \n",
       "3                 0           2           81              M            PA   \n",
       "4                 0           3           81              F            PA   \n",
       "5                 1           3           74              F            PA   \n",
       "6                 2           3           75              F            PA   \n",
       "7                 3           3           76              F            PA   \n",
       "8                 4           3           77              F            PA   \n",
       "9                 5           3           78              F            PA   \n",
       "10                6           3           79              F            PA   \n",
       "11                7           3           80              F            PA   \n",
       "12                0           4           82              M            AP   \n",
       "13                0           5           69              F            PA   \n",
       "14                1           5           69              F            AP   \n",
       "15                2           5           69              F            AP   \n",
       "16                3           5           69              F            PA   \n",
       "17                4           5           70              F            PA   \n",
       "18                5           5           70              F            PA   \n",
       "19                6           5           70              F            PA   \n",
       "20                7           5           70              F            PA   \n",
       "21                0           6           81              M            PA   \n",
       "22                0           7           82              M            PA   \n",
       "23                0           8           69              F            PA   \n",
       "24                1           8           70              F            PA   \n",
       "25                2           8           73              F            PA   \n",
       "26                0           9           73              M            PA   \n",
       "27                0          10           84              F            PA   \n",
       "28                0          11           75              M            PA   \n",
       "29                1          11           75              M            PA   \n",
       "...             ...         ...          ...            ...           ...   \n",
       "112090            0       30786           61              F            PA   \n",
       "112091            1       30786           61              F            AP   \n",
       "112092            2       30786           61              F            AP   \n",
       "112093            3       30786           61              F            AP   \n",
       "112094            4       30786           61              F            AP   \n",
       "112095            5       30786           61              F            AP   \n",
       "112096            6       30786           61              F            AP   \n",
       "112097            7       30786           61              F            AP   \n",
       "112098            0       30787           34              M            PA   \n",
       "112099            0       30788           61              F            PA   \n",
       "112100            0       30789           52              F            PA   \n",
       "112101            0       30790           47              F            PA   \n",
       "112102            0       30791           49              M            PA   \n",
       "112103            1       30791           49              M            AP   \n",
       "112104            0       30792           10              F            PA   \n",
       "112105            1       30792           10              F            PA   \n",
       "112106            0       30793           58              F            PA   \n",
       "112107            0       30794           38              F            PA   \n",
       "112108            0       30795           53              F            PA   \n",
       "112109            0       30796           44              M            PA   \n",
       "112110            0       30797           24              M            PA   \n",
       "112111            0       30798           30              M            PA   \n",
       "112112            0       30799           32              M            PA   \n",
       "112113            0       30800           34              F            PA   \n",
       "112114            0       30801           39              M            PA   \n",
       "112115            1       30801           39              M            PA   \n",
       "112116            0       30802           29              M            PA   \n",
       "112117            0       30803           42              F            PA   \n",
       "112118            0       30804           30              F            PA   \n",
       "112119            0       30805           27              M            PA   \n",
       "\n",
       "        OriginalImage[Width  Height]  OriginalImagePixelSpacing[x        y]  \\\n",
       "0                      2682     2749                     0.143000  0.143000   \n",
       "1                      2894     2729                     0.143000  0.143000   \n",
       "2                      2500     2048                     0.168000  0.168000   \n",
       "3                      2500     2048                     0.171000  0.171000   \n",
       "4                      2582     2991                     0.143000  0.143000   \n",
       "5                      2500     2048                     0.168000  0.168000   \n",
       "6                      2048     2500                     0.168000  0.168000   \n",
       "7                      2698     2991                     0.143000  0.143000   \n",
       "8                      2500     2048                     0.168000  0.168000   \n",
       "9                      2686     2991                     0.143000  0.143000   \n",
       "10                     2992     2991                     0.143000  0.143000   \n",
       "11                     2582     2905                     0.143000  0.143000   \n",
       "12                     2500     2048                     0.168000  0.168000   \n",
       "13                     2048     2500                     0.168000  0.168000   \n",
       "14                     2500     2048                     0.168000  0.168000   \n",
       "15                     2500     2048                     0.168000  0.168000   \n",
       "16                     2992     2991                     0.143000  0.143000   \n",
       "17                     2986     2991                     0.143000  0.143000   \n",
       "18                     2514     2991                     0.143000  0.143000   \n",
       "19                     2992     2991                     0.143000  0.143000   \n",
       "20                     2566     2681                     0.143000  0.143000   \n",
       "21                     2500     2048                     0.168000  0.168000   \n",
       "22                     2500     2048                     0.168000  0.168000   \n",
       "23                     2048     2500                     0.171000  0.171000   \n",
       "24                     2048     2500                     0.171000  0.171000   \n",
       "25                     2048     2500                     0.168000  0.168000   \n",
       "26                     2992     2991                     0.143000  0.143000   \n",
       "27                     2992     2991                     0.143000  0.143000   \n",
       "28                     2638     2449                     0.143000  0.143000   \n",
       "29                     2500     2048                     0.168000  0.168000   \n",
       "...                     ...      ...                          ...       ...   \n",
       "112090                 2021     2021                     0.194311  0.194311   \n",
       "112091                 3056     2544                     0.139000  0.139000   \n",
       "112092                 3056     2544                     0.139000  0.139000   \n",
       "112093                 3056     2544                     0.139000  0.139000   \n",
       "112094                 3056     2544                     0.139000  0.139000   \n",
       "112095                 3056     2544                     0.139000  0.139000   \n",
       "112096                 3056     2544                     0.139000  0.139000   \n",
       "112097                 3056     2544                     0.139000  0.139000   \n",
       "112098                 2021     2021                     0.194311  0.194311   \n",
       "112099                 2021     2021                     0.194311  0.194311   \n",
       "112100                 2021     2021                     0.194311  0.194311   \n",
       "112101                 2021     2021                     0.194311  0.194311   \n",
       "112102                 2021     2021                     0.194311  0.194311   \n",
       "112103                 3056     2544                     0.139000  0.139000   \n",
       "112104                 1775     1712                     0.194311  0.194311   \n",
       "112105                 1663     1675                     0.194311  0.194311   \n",
       "112106                 2021     2021                     0.194311  0.194311   \n",
       "112107                 2021     2021                     0.194311  0.194311   \n",
       "112108                 2021     2021                     0.194311  0.194311   \n",
       "112109                 2021     2021                     0.194311  0.194311   \n",
       "112110                 2021     2021                     0.194311  0.194311   \n",
       "112111                 2500     2048                     0.171000  0.171000   \n",
       "112112                 2048     2500                     0.171000  0.171000   \n",
       "112113                 2048     2500                     0.168000  0.168000   \n",
       "112114                 2500     2048                     0.168000  0.168000   \n",
       "112115                 2048     2500                     0.168000  0.168000   \n",
       "112116                 2048     2500                     0.168000  0.168000   \n",
       "112117                 2048     2500                     0.168000  0.168000   \n",
       "112118                 2048     2500                     0.168000  0.168000   \n",
       "112119                 2048     2500                     0.171000  0.171000   \n",
       "\n",
       "        Unnamed: 11                          path  \n",
       "0               NaN  data/images/00000001_000.png  \n",
       "1               NaN  data/images/00000001_001.png  \n",
       "2               NaN  data/images/00000001_002.png  \n",
       "3               NaN  data/images/00000002_000.png  \n",
       "4               NaN  data/images/00000003_000.png  \n",
       "5               NaN  data/images/00000003_001.png  \n",
       "6               NaN  data/images/00000003_002.png  \n",
       "7               NaN  data/images/00000003_003.png  \n",
       "8               NaN  data/images/00000003_004.png  \n",
       "9               NaN  data/images/00000003_005.png  \n",
       "10              NaN  data/images/00000003_006.png  \n",
       "11              NaN  data/images/00000003_007.png  \n",
       "12              NaN  data/images/00000004_000.png  \n",
       "13              NaN  data/images/00000005_000.png  \n",
       "14              NaN  data/images/00000005_001.png  \n",
       "15              NaN  data/images/00000005_002.png  \n",
       "16              NaN  data/images/00000005_003.png  \n",
       "17              NaN  data/images/00000005_004.png  \n",
       "18              NaN  data/images/00000005_005.png  \n",
       "19              NaN  data/images/00000005_006.png  \n",
       "20              NaN  data/images/00000005_007.png  \n",
       "21              NaN  data/images/00000006_000.png  \n",
       "22              NaN  data/images/00000007_000.png  \n",
       "23              NaN  data/images/00000008_000.png  \n",
       "24              NaN  data/images/00000008_001.png  \n",
       "25              NaN  data/images/00000008_002.png  \n",
       "26              NaN  data/images/00000009_000.png  \n",
       "27              NaN  data/images/00000010_000.png  \n",
       "28              NaN  data/images/00000011_000.png  \n",
       "29              NaN  data/images/00000011_001.png  \n",
       "...             ...                           ...  \n",
       "112090          NaN  data/images/00030786_000.png  \n",
       "112091          NaN  data/images/00030786_001.png  \n",
       "112092          NaN  data/images/00030786_002.png  \n",
       "112093          NaN  data/images/00030786_003.png  \n",
       "112094          NaN  data/images/00030786_004.png  \n",
       "112095          NaN  data/images/00030786_005.png  \n",
       "112096          NaN  data/images/00030786_006.png  \n",
       "112097          NaN  data/images/00030786_007.png  \n",
       "112098          NaN  data/images/00030787_000.png  \n",
       "112099          NaN  data/images/00030788_000.png  \n",
       "112100          NaN  data/images/00030789_000.png  \n",
       "112101          NaN  data/images/00030790_000.png  \n",
       "112102          NaN  data/images/00030791_000.png  \n",
       "112103          NaN  data/images/00030791_001.png  \n",
       "112104          NaN  data/images/00030792_000.png  \n",
       "112105          NaN  data/images/00030792_001.png  \n",
       "112106          NaN  data/images/00030793_000.png  \n",
       "112107          NaN  data/images/00030794_000.png  \n",
       "112108          NaN  data/images/00030795_000.png  \n",
       "112109          NaN  data/images/00030796_000.png  \n",
       "112110          NaN  data/images/00030797_000.png  \n",
       "112111          NaN  data/images/00030798_000.png  \n",
       "112112          NaN  data/images/00030799_000.png  \n",
       "112113          NaN  data/images/00030800_000.png  \n",
       "112114          NaN  data/images/00030801_000.png  \n",
       "112115          NaN  data/images/00030801_001.png  \n",
       "112116          NaN  data/images/00030802_000.png  \n",
       "112117          NaN  data/images/00030803_000.png  \n",
       "112118          NaN  data/images/00030804_000.png  \n",
       "112119          NaN  data/images/00030805_000.png  \n",
       "\n",
       "[112120 rows x 13 columns]>"
      ]
     },
     "execution_count": 11,
     "metadata": {},
     "output_type": "execute_result"
    }
   ],
   "source": [
    "all_df['path'] = all_df['Image Index'].map(all_paths.get)\n",
    "all_df.sample"
   ]
  },
  {
   "cell_type": "markdown",
   "metadata": {},
   "source": [
    "### Preprocess labels"
   ]
  },
  {
   "cell_type": "code",
   "execution_count": 12,
   "metadata": {},
   "outputs": [],
   "source": [
    "label_counts = all_df['Finding Labels'].value_counts()"
   ]
  },
  {
   "cell_type": "code",
   "execution_count": 13,
   "metadata": {},
   "outputs": [
    {
     "data": {
      "image/png": "[encoded data removed]",
      "text/plain": [
       "<matplotlib.figure.Figure at 0x7f9df852a8d0>"
      ]
     },
     "metadata": {},
     "output_type": "display_data"
    }
   ],
   "source": [
    "# Label counts\n",
    "\n",
    "fig, ax1 = plt.subplots(1, 1, figsize = (12, 8))\n",
    "ax1.bar(np.arange(len(label_counts[:15])) + 0.5, label_counts[:15])\n",
    "ax1.set_xticks(np.arange(len(label_counts[:15])) + 0.5)\n",
    "_ = ax1.set_xticklabels(label_counts[:15].index, rotation = 90)"
   ]
  },
  {
   "cell_type": "code",
   "execution_count": 14,
   "metadata": {},
   "outputs": [],
   "source": [
    "followup_counts = all_df['Follow-up #'].value_counts()"
   ]
  },
  {
   "cell_type": "code",
   "execution_count": 15,
   "metadata": {},
   "outputs": [
    {
     "data": {
      "image/png": "[encoded data removed]",
      "text/plain": [
       "<matplotlib.figure.Figure at 0x7f9df84d9ef0>"
      ]
     },
     "metadata": {},
     "output_type": "display_data"
    }
   ],
   "source": [
    "# Follow-up counts\n",
    "\n",
    "fig, ax1 = plt.subplots(1, 1, figsize = (12, 8))\n",
    "ax1.bar(np.arange(len(followup_counts[:50])) + 0.5, followup_counts[:50])\n",
    "ax1.set_xticks(np.arange(len(followup_counts[:50])) + 0.5)\n",
    "_ = ax1.set_xticklabels(followup_counts[:50].index, rotation = 90)"
   ]
  },
  {
   "cell_type": "code",
   "execution_count": 16,
   "metadata": {},
   "outputs": [
    {
     "name": "stdout",
     "output_type": "stream",
     "text": [
      "All Labels (14): ['Atelectasis', 'Cardiomegaly', 'Consolidation', 'Edema', 'Effusion', 'Emphysema', 'Fibrosis', 'Hernia', 'Infiltration', 'Mass', 'Nodule', 'Pleural_Thickening', 'Pneumonia', 'Pneumothorax']\n"
     ]
    }
   ],
   "source": [
    "all_df['Finding Labels'] = all_df['Finding Labels'].map(lambda x: x.replace('No Finding', ''))\n",
    "\n",
    "all_labels = np.unique(list(chain(*all_df['Finding Labels'].map(lambda x: x.split('|')).tolist())))\n",
    "all_labels = [x for x in all_labels if len(x) > 0]\n",
    "\n",
    "print('All Labels ({}): {}'.format(len(all_labels), all_labels))"
   ]
  },
  {
   "cell_type": "code",
   "execution_count": 17,
   "metadata": {},
   "outputs": [
    {
     "data": {
      "text/html": [
       "<div>\n",
       "<style scoped>\n",
       "    .dataframe tbody tr th:only-of-type {\n",
       "        vertical-align: middle;\n",
       "    }\n",
       "\n",
       "    .dataframe tbody tr th {\n",
       "        vertical-align: top;\n",
       "    }\n",
       "\n",
       "    .dataframe thead th {\n",
       "        text-align: right;\n",
       "    }\n",
       "</style>\n",
       "<table border=\"1\" class=\"dataframe\">\n",
       "  <thead>\n",
       "    <tr style=\"text-align: right;\">\n",
       "      <th></th>\n",
       "      <th>Image Index</th>\n",
       "      <th>Finding Labels</th>\n",
       "      <th>Follow-up #</th>\n",
       "      <th>Patient ID</th>\n",
       "      <th>Patient Age</th>\n",
       "      <th>Patient Gender</th>\n",
       "      <th>View Position</th>\n",
       "      <th>OriginalImage[Width</th>\n",
       "      <th>Height]</th>\n",
       "      <th>OriginalImagePixelSpacing[x</th>\n",
       "      <th>...</th>\n",
       "      <th>Effusion</th>\n",
       "      <th>Emphysema</th>\n",
       "      <th>Fibrosis</th>\n",
       "      <th>Hernia</th>\n",
       "      <th>Infiltration</th>\n",
       "      <th>Mass</th>\n",
       "      <th>Nodule</th>\n",
       "      <th>Pleural_Thickening</th>\n",
       "      <th>Pneumonia</th>\n",
       "      <th>Pneumothorax</th>\n",
       "    </tr>\n",
       "  </thead>\n",
       "  <tbody>\n",
       "    <tr>\n",
       "      <th>50367</th>\n",
       "      <td>00012750_002.png</td>\n",
       "      <td>Atelectasis|Pneumonia</td>\n",
       "      <td>2</td>\n",
       "      <td>12750</td>\n",
       "      <td>66</td>\n",
       "      <td>F</td>\n",
       "      <td>PA</td>\n",
       "      <td>2992</td>\n",
       "      <td>2991</td>\n",
       "      <td>0.143</td>\n",
       "      <td>...</td>\n",
       "      <td>0.0</td>\n",
       "      <td>0.0</td>\n",
       "      <td>0.0</td>\n",
       "      <td>0.0</td>\n",
       "      <td>0.0</td>\n",
       "      <td>0.0</td>\n",
       "      <td>0.0</td>\n",
       "      <td>0.0</td>\n",
       "      <td>1.0</td>\n",
       "      <td>0.0</td>\n",
       "    </tr>\n",
       "    <tr>\n",
       "      <th>112025</th>\n",
       "      <td>00030740_000.png</td>\n",
       "      <td></td>\n",
       "      <td>0</td>\n",
       "      <td>30740</td>\n",
       "      <td>23</td>\n",
       "      <td>M</td>\n",
       "      <td>AP</td>\n",
       "      <td>3056</td>\n",
       "      <td>2544</td>\n",
       "      <td>0.139</td>\n",
       "      <td>...</td>\n",
       "      <td>0.0</td>\n",
       "      <td>0.0</td>\n",
       "      <td>0.0</td>\n",
       "      <td>0.0</td>\n",
       "      <td>0.0</td>\n",
       "      <td>0.0</td>\n",
       "      <td>0.0</td>\n",
       "      <td>0.0</td>\n",
       "      <td>0.0</td>\n",
       "      <td>0.0</td>\n",
       "    </tr>\n",
       "    <tr>\n",
       "      <th>94140</th>\n",
       "      <td>00023940_000.png</td>\n",
       "      <td></td>\n",
       "      <td>0</td>\n",
       "      <td>23940</td>\n",
       "      <td>50</td>\n",
       "      <td>F</td>\n",
       "      <td>PA</td>\n",
       "      <td>2614</td>\n",
       "      <td>2749</td>\n",
       "      <td>0.143</td>\n",
       "      <td>...</td>\n",
       "      <td>0.0</td>\n",
       "      <td>0.0</td>\n",
       "      <td>0.0</td>\n",
       "      <td>0.0</td>\n",
       "      <td>0.0</td>\n",
       "      <td>0.0</td>\n",
       "      <td>0.0</td>\n",
       "      <td>0.0</td>\n",
       "      <td>0.0</td>\n",
       "      <td>0.0</td>\n",
       "    </tr>\n",
       "    <tr>\n",
       "      <th>26084</th>\n",
       "      <td>00006850_023.png</td>\n",
       "      <td>Cardiomegaly</td>\n",
       "      <td>23</td>\n",
       "      <td>6850</td>\n",
       "      <td>57</td>\n",
       "      <td>M</td>\n",
       "      <td>AP</td>\n",
       "      <td>2500</td>\n",
       "      <td>2048</td>\n",
       "      <td>0.168</td>\n",
       "      <td>...</td>\n",
       "      <td>0.0</td>\n",
       "      <td>0.0</td>\n",
       "      <td>0.0</td>\n",
       "      <td>0.0</td>\n",
       "      <td>0.0</td>\n",
       "      <td>0.0</td>\n",
       "      <td>0.0</td>\n",
       "      <td>0.0</td>\n",
       "      <td>0.0</td>\n",
       "      <td>0.0</td>\n",
       "    </tr>\n",
       "    <tr>\n",
       "      <th>73052</th>\n",
       "      <td>00017994_006.png</td>\n",
       "      <td>Mass|Pneumothorax</td>\n",
       "      <td>6</td>\n",
       "      <td>17994</td>\n",
       "      <td>60</td>\n",
       "      <td>F</td>\n",
       "      <td>PA</td>\n",
       "      <td>2638</td>\n",
       "      <td>2991</td>\n",
       "      <td>0.143</td>\n",
       "      <td>...</td>\n",
       "      <td>0.0</td>\n",
       "      <td>0.0</td>\n",
       "      <td>0.0</td>\n",
       "      <td>0.0</td>\n",
       "      <td>0.0</td>\n",
       "      <td>1.0</td>\n",
       "      <td>0.0</td>\n",
       "      <td>0.0</td>\n",
       "      <td>0.0</td>\n",
       "      <td>1.0</td>\n",
       "    </tr>\n",
       "  </tbody>\n",
       "</table>\n",
       "<p>5 rows × 27 columns</p>\n",
       "</div>"
      ],
      "text/plain": [
       "             Image Index         Finding Labels  Follow-up #  Patient ID  \\\n",
       "50367   00012750_002.png  Atelectasis|Pneumonia            2       12750   \n",
       "112025  00030740_000.png                                   0       30740   \n",
       "94140   00023940_000.png                                   0       23940   \n",
       "26084   00006850_023.png           Cardiomegaly           23        6850   \n",
       "73052   00017994_006.png      Mass|Pneumothorax            6       17994   \n",
       "\n",
       "        Patient Age Patient Gender View Position  OriginalImage[Width  \\\n",
       "50367            66              F            PA                 2992   \n",
       "112025           23              M            AP                 3056   \n",
       "94140            50              F            PA                 2614   \n",
       "26084            57              M            AP                 2500   \n",
       "73052            60              F            PA                 2638   \n",
       "\n",
       "        Height]  OriginalImagePixelSpacing[x      ...       Effusion  \\\n",
       "50367      2991                        0.143      ...            0.0   \n",
       "112025     2544                        0.139      ...            0.0   \n",
       "94140      2749                        0.143      ...            0.0   \n",
       "26084      2048                        0.168      ...            0.0   \n",
       "73052      2991                        0.143      ...            0.0   \n",
       "\n",
       "        Emphysema Fibrosis  Hernia  Infiltration  Mass  Nodule  \\\n",
       "50367         0.0      0.0     0.0           0.0   0.0     0.0   \n",
       "112025        0.0      0.0     0.0           0.0   0.0     0.0   \n",
       "94140         0.0      0.0     0.0           0.0   0.0     0.0   \n",
       "26084         0.0      0.0     0.0           0.0   0.0     0.0   \n",
       "73052         0.0      0.0     0.0           0.0   1.0     0.0   \n",
       "\n",
       "        Pleural_Thickening  Pneumonia  Pneumothorax  \n",
       "50367                  0.0        1.0           0.0  \n",
       "112025                 0.0        0.0           0.0  \n",
       "94140                  0.0        0.0           0.0  \n",
       "26084                  0.0        0.0           0.0  \n",
       "73052                  0.0        0.0           1.0  \n",
       "\n",
       "[5 rows x 27 columns]"
      ]
     },
     "execution_count": 17,
     "metadata": {},
     "output_type": "execute_result"
    }
   ],
   "source": [
    "for label in all_labels:\n",
    "    if len(label) > 1: # leave out empty labels\n",
    "        all_df[label] = all_df['Finding Labels'].map(lambda finding: 1.0 if label in finding else 0)\n",
    "        \n",
    "all_df.sample(5)"
   ]
  },
  {
   "cell_type": "markdown",
   "metadata": {},
   "source": [
    "### All conditions"
   ]
  },
  {
   "cell_type": "code",
   "execution_count": 74,
   "metadata": {},
   "outputs": [],
   "source": [
    "first_df = all_df[all_df['Follow-up #'] == 0]"
   ]
  },
  {
   "cell_type": "code",
   "execution_count": 75,
   "metadata": {},
   "outputs": [],
   "source": [
    "sample_weights = all_df['Finding Labels'].map(lambda x: len(x.split('|')) if len(x) > 0 else 0).values + 4e-4\n",
    "sample_weights /= sample_weights.sum()\n",
    "\n",
    "all_df_sample = all_df.sample(20000, weights=sample_weights)"
   ]
  },
  {
   "cell_type": "code",
   "execution_count": 55,
   "metadata": {},
   "outputs": [],
   "source": [
    "sample_weights = first_df['Finding Labels'].map(lambda x: len(x.split('|')) if len(x) > 0 else 0).values + 4e-4\n",
    "sample_weights /= sample_weights.sum()\n",
    "\n",
    "first_df_sample = first_df.sample(20000, weights=sample_weights)"
   ]
  },
  {
   "cell_type": "code",
   "execution_count": 56,
   "metadata": {},
   "outputs": [
    {
     "data": {
      "image/png": "[encoded data removed]",
      "text/plain": [
       "<matplotlib.figure.Figure at 0x7f5878b01e48>"
      ]
     },
     "metadata": {},
     "output_type": "display_data"
    }
   ],
   "source": [
    "# After sampling out negative cases\n",
    "\n",
    "label_counts = all_df_sample['Finding Labels'].value_counts()[:15]\n",
    "fig, ax1 = plt.subplots(1, 1, figsize = (12, 8))\n",
    "ax1.bar(np.arange(len(label_counts)) + 0.5, label_counts)\n",
    "ax1.set_xticks(np.arange(len(label_counts)) + 0.5)\n",
    "_ = ax1.set_xticklabels(label_counts.index, rotation = 90)"
   ]
  },
  {
   "cell_type": "code",
   "execution_count": 57,
   "metadata": {
    "scrolled": false
   },
   "outputs": [
    {
     "data": {
      "image/png": "[encoded data removed]",
      "text/plain": [
       "<matplotlib.figure.Figure at 0x7f586c6616a0>"
      ]
     },
     "metadata": {},
     "output_type": "display_data"
    }
   ],
   "source": [
    "# Adjusted frequency\n",
    "\n",
    "label_counts = 100 * np.mean(all_df_sample[all_labels].values, 0)\n",
    "fig, ax1 = plt.subplots(1, 1, figsize = (12, 8))\n",
    "ax1.bar(np.arange(len(label_counts)) + 0.5, label_counts)\n",
    "ax1.set_xticks(np.arange(len(label_counts)) + 0.5)\n",
    "_ = ax1.set_xticklabels(all_labels, rotation = 90)"
   ]
  },
  {
   "cell_type": "markdown",
   "metadata": {},
   "source": [
    "### Singular pneumothorax"
   ]
  },
  {
   "cell_type": "code",
   "execution_count": 18,
   "metadata": {},
   "outputs": [],
   "source": [
    "first_df = all_df[all_df['Follow-up #'] == 0]"
   ]
  },
  {
   "cell_type": "code",
   "execution_count": 19,
   "metadata": {},
   "outputs": [
    {
     "data": {
      "text/plain": [
       "((109, 27), (109, 27))"
      ]
     },
     "execution_count": 19,
     "metadata": {},
     "output_type": "execute_result"
    }
   ],
   "source": [
    "singular_df_pneumothorax = first_df[first_df['Finding Labels'] == 'Pneumothorax']\n",
    "singular_df_pneumothorax.sample(5)\n",
    "\n",
    "singular_df_pneumothorax_neg = first_df[first_df['Finding Labels'] == '']\n",
    "singular_df_pneumothorax_neg = singular_df_pneumothorax_neg.sample(singular_df_pneumothorax.shape[0])\n",
    "singular_df_pneumothorax_neg.sample(5)\n",
    "\n",
    "singular_df_pneumothorax_neg.shape, singular_df_pneumothorax_neg.shape"
   ]
  },
  {
   "cell_type": "markdown",
   "metadata": {},
   "source": [
    "### First pneumothorax"
   ]
  },
  {
   "cell_type": "code",
   "execution_count": 20,
   "metadata": {},
   "outputs": [],
   "source": [
    "# for i in first_df_nothing_sample['path']:\n",
    "#     plt.imshow(mpimg.imread(i))\n",
    "#     plt.show()"
   ]
  },
  {
   "cell_type": "code",
   "execution_count": 21,
   "metadata": {
    "scrolled": false
   },
   "outputs": [
    {
     "data": {
      "text/plain": [
       "((186, 27), (186, 27))"
      ]
     },
     "execution_count": 21,
     "metadata": {},
     "output_type": "execute_result"
    }
   ],
   "source": [
    "first_df_pneumothorax = first_df[first_df['Pneumothorax'] == 1]\n",
    "first_df_pneumothorax.sample(5)\n",
    "\n",
    "first_df_pneumothorax_neg = first_df[first_df['Finding Labels'] == '']\n",
    "first_df_pneumothorax_neg = first_df_pneumothorax_neg.sample(first_df_pneumothorax.shape[0])\n",
    "first_df_pneumothorax_neg.sample(5)\n",
    "\n",
    "first_df_pneumothorax_neg.shape, first_df_pneumothorax_neg.shape"
   ]
  },
  {
   "cell_type": "markdown",
   "metadata": {},
   "source": [
    "### All pneumothorax"
   ]
  },
  {
   "cell_type": "code",
   "execution_count": 22,
   "metadata": {},
   "outputs": [
    {
     "data": {
      "text/plain": [
       "((3407, 27), (3407, 27))"
      ]
     },
     "execution_count": 22,
     "metadata": {},
     "output_type": "execute_result"
    }
   ],
   "source": [
    "all_df_pneumothorax = all_df[all_df['Pneumothorax'] == 1]\n",
    "all_df_pneumothorax.sample(5)\n",
    "\n",
    "all_df_pneumothorax_neg = all_df[all_df['Finding Labels'] == '']\n",
    "all_df_pneumothorax_neg = all_df_pneumothorax_neg.sample(all_df_pneumothorax.shape[0])\n",
    "all_df_pneumothorax_neg.sample(5)\n",
    "\n",
    "all_df_pneumothorax_neg.shape, all_df_pneumothorax_neg.shape"
   ]
  },
  {
   "cell_type": "markdown",
   "metadata": {},
   "source": [
    "### Unique pneumothorax "
   ]
  },
  {
   "cell_type": "code",
   "execution_count": 23,
   "metadata": {},
   "outputs": [
    {
     "data": {
      "text/plain": [
       "((1506, 27), (1506, 27))"
      ]
     },
     "execution_count": 23,
     "metadata": {},
     "output_type": "execute_result"
    }
   ],
   "source": [
    "unique_df_pneumothorax = all_df[all_df['Finding Labels'] == 'Pneumothorax']\n",
    "unique_df_pneumothorax.sample(5)\n",
    "\n",
    "unique_df_pneumothorax_neg = all_df[all_df['Finding Labels'] == '']\n",
    "unique_df_pneumothorax_neg = unique_df_pneumothorax_neg.sample(unique_df_pneumothorax.shape[0])\n",
    "unique_df_pneumothorax_neg.sample(5)\n",
    "\n",
    "unique_df_pneumothorax_neg.shape, unique_df_pneumothorax_neg.shape"
   ]
  },
  {
   "cell_type": "markdown",
   "metadata": {},
   "source": [
    "### Singular cardiomegaly"
   ]
  },
  {
   "cell_type": "code",
   "execution_count": 24,
   "metadata": {},
   "outputs": [
    {
     "data": {
      "text/plain": [
       "((411, 27), (411, 27))"
      ]
     },
     "execution_count": 24,
     "metadata": {},
     "output_type": "execute_result"
    }
   ],
   "source": [
    "singular_df_cardiomegaly = first_df[first_df['Finding Labels'] == 'Cardiomegaly']\n",
    "singular_df_cardiomegaly.sample(5)\n",
    "\n",
    "singular_df_cardiomegaly_neg = first_df[first_df['Finding Labels'] == '']\n",
    "singular_df_cardiomegaly_neg = singular_df_cardiomegaly_neg.sample(singular_df_cardiomegaly.shape[0])\n",
    "singular_df_cardiomegaly_neg.sample(5)\n",
    "\n",
    "singular_df_cardiomegaly_neg.shape, singular_df_cardiomegaly_neg.shape"
   ]
  },
  {
   "cell_type": "markdown",
   "metadata": {},
   "source": [
    "### First cardiomegaly"
   ]
  },
  {
   "cell_type": "code",
   "execution_count": 25,
   "metadata": {},
   "outputs": [
    {
     "data": {
      "text/plain": [
       "((673, 27), (673, 27))"
      ]
     },
     "execution_count": 25,
     "metadata": {},
     "output_type": "execute_result"
    }
   ],
   "source": [
    "first_df_cardiomegaly = first_df[first_df['Cardiomegaly'] == 1]\n",
    "first_df_cardiomegaly.sample(5)\n",
    "\n",
    "first_df_cardiomegaly_neg = first_df[first_df['Finding Labels'] == '']\n",
    "first_df_cardiomegaly_neg = first_df_cardiomegaly_neg.sample(first_df_cardiomegaly.shape[0])\n",
    "first_df_cardiomegaly_neg.sample(5)\n",
    "\n",
    "first_df_cardiomegaly_neg.shape, first_df_cardiomegaly_neg.shape"
   ]
  },
  {
   "cell_type": "markdown",
   "metadata": {},
   "source": [
    "### All cardiomegaly"
   ]
  },
  {
   "cell_type": "code",
   "execution_count": 26,
   "metadata": {},
   "outputs": [
    {
     "data": {
      "text/plain": [
       "((1563, 27), (1563, 27))"
      ]
     },
     "execution_count": 26,
     "metadata": {},
     "output_type": "execute_result"
    }
   ],
   "source": [
    "all_df_cardiomegaly = all_df[all_df['Cardiomegaly'] == 1]\n",
    "all_df_cardiomegaly.sample(5)\n",
    "\n",
    "all_df_cardiomegaly_neg = all_df[all_df['Finding Labels'] == '']\n",
    "all_df_cardiomegaly_neg = all_df_cardiomegaly_neg.sample(all_df_cardiomegaly.shape[0])\n",
    "all_df_cardiomegaly_neg.sample(5)\n",
    "\n",
    "all_df_cardiomegaly_neg.shape, all_df_cardiomegaly_neg.shape"
   ]
  },
  {
   "cell_type": "markdown",
   "metadata": {},
   "source": [
    "### Unique cardiomegaly"
   ]
  },
  {
   "cell_type": "code",
   "execution_count": 27,
   "metadata": {},
   "outputs": [
    {
     "data": {
      "text/plain": [
       "((746, 27), (746, 27))"
      ]
     },
     "execution_count": 27,
     "metadata": {},
     "output_type": "execute_result"
    }
   ],
   "source": [
    "unique_df_cardiomegaly = all_df[all_df['Finding Labels'] == 'Cardiomegaly']\n",
    "unique_df_cardiomegaly.sample(5)\n",
    "\n",
    "unique_df_cardiomegaly_neg = all_df[all_df['Finding Labels'] == '']\n",
    "unique_df_cardiomegaly_neg = unique_df_cardiomegaly_neg.sample(unique_df_cardiomegaly.shape[0])\n",
    "unique_df_cardiomegaly_neg.sample(5)\n",
    "\n",
    "unique_df_cardiomegaly_neg.shape, unique_df_cardiomegaly_neg.shape"
   ]
  },
  {
   "cell_type": "markdown",
   "metadata": {},
   "source": [
    "### Make labels"
   ]
  },
  {
   "cell_type": "code",
   "execution_count": 18,
   "metadata": {},
   "outputs": [],
   "source": [
    "_dir = data_dir + '/split/' + 'df.csv'\n",
    "all_df.to_csv(_dir, index=None)"
   ]
  },
  {
   "cell_type": "code",
   "execution_count": 76,
   "metadata": {},
   "outputs": [],
   "source": [
    "_dir = data_dir + '/split/' + 'all_df.csv'\n",
    "all_df_sample.to_csv(_dir, index=None)"
   ]
  },
  {
   "cell_type": "code",
   "execution_count": 59,
   "metadata": {},
   "outputs": [],
   "source": [
    "_dir = data_dir + '/split/' + 'first_df.csv'\n",
    "first_df_sample.to_csv(_dir, index=None)"
   ]
  },
  {
   "cell_type": "code",
   "execution_count": 33,
   "metadata": {},
   "outputs": [],
   "source": [
    "df = pd.concat([singular_df_pneumothorax, singular_df_pneumothorax_neg])\n",
    "\n",
    "_dir = data_dir + '/split/' + 'singular_df_pneumothorax.csv'\n",
    "df.to_csv(_dir, index=None)"
   ]
  },
  {
   "cell_type": "code",
   "execution_count": 34,
   "metadata": {},
   "outputs": [],
   "source": [
    "df = pd.concat([first_df_pneumothorax, first_df_pneumothorax_neg])\n",
    "\n",
    "_dir = data_dir + '/split/' + 'first_df_pneumothorax.csv'\n",
    "df.to_csv(_dir, index=None)"
   ]
  },
  {
   "cell_type": "code",
   "execution_count": 35,
   "metadata": {},
   "outputs": [],
   "source": [
    "df = pd.concat([all_df_pneumothorax, all_df_pneumothorax_neg])\n",
    "\n",
    "_dir = data_dir + '/split/' + 'all_df_pneumothorax.csv'\n",
    "df.to_csv(_dir, index=None)"
   ]
  },
  {
   "cell_type": "code",
   "execution_count": 36,
   "metadata": {},
   "outputs": [],
   "source": [
    "df = pd.concat([unique_df_pneumothorax, unique_df_pneumothorax_neg])\n",
    "\n",
    "_dir = data_dir + '/split/' + 'unique_df_pneumothorax.csv'\n",
    "df.to_csv(_dir, index=None)"
   ]
  },
  {
   "cell_type": "code",
   "execution_count": 37,
   "metadata": {},
   "outputs": [],
   "source": [
    "df = pd.concat([singular_df_cardiomegaly, singular_df_cardiomegaly_neg])\n",
    "\n",
    "_dir = data_dir + '/split/' + 'singular_df_cardiomegaly.csv'\n",
    "df.to_csv(_dir, index=None)"
   ]
  },
  {
   "cell_type": "code",
   "execution_count": 38,
   "metadata": {},
   "outputs": [],
   "source": [
    "df = pd.concat([first_df_cardiomegaly, first_df_cardiomegaly_neg])\n",
    "\n",
    "_dir = data_dir + '/split/' + 'first_df_cardiomegaly.csv'\n",
    "df.to_csv(_dir, index=None)"
   ]
  },
  {
   "cell_type": "code",
   "execution_count": 39,
   "metadata": {},
   "outputs": [],
   "source": [
    "df = pd.concat([all_df_cardiomegaly, all_df_cardiomegaly_neg])\n",
    "\n",
    "_dir = data_dir + '/split/' + 'all_df_cardiomegaly.csv'\n",
    "df.to_csv(_dir, index=None)"
   ]
  },
  {
   "cell_type": "code",
   "execution_count": 40,
   "metadata": {},
   "outputs": [],
   "source": [
    "df = pd.concat([unique_df_cardiomegaly, unique_df_cardiomegaly_neg])\n",
    "\n",
    "_dir = data_dir + '/split/' + 'unique_df_cardiomegaly.csv'\n",
    "df.to_csv(_dir, index=None)"
   ]
  },
  {
   "cell_type": "code",
   "execution_count": null,
   "metadata": {},
   "outputs": [],
   "source": []
  }
 ],
 "metadata": {
  "kernelspec": {
   "display_name": "Python 3",
   "language": "python",
   "name": "python3"
  },
  "language_info": {
   "codemirror_mode": {
    "name": "ipython",
    "version": 3
   },
   "file_extension": ".py",
   "mimetype": "text/x-python",
   "name": "python",
   "nbconvert_exporter": "python",
   "pygments_lexer": "ipython3",
   "version": "3.6.4"
  }
 },
 "nbformat": 4,
 "nbformat_minor": 2
}
